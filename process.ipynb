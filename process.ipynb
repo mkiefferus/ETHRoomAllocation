{
 "cells": [
  {
   "cell_type": "code",
   "execution_count": 35,
   "metadata": {},
   "outputs": [],
   "source": [
    "import pandas as pd\n",
    "import numpy as np\n",
    "from datetime import datetime, timedelta\n",
    "from math import sqrt"
   ]
  },
  {
   "cell_type": "code",
   "execution_count": 3,
   "metadata": {},
   "outputs": [],
   "source": [
    "df = pd.read_csv('./room_information.csv')"
   ]
  },
  {
   "cell_type": "code",
   "execution_count": 4,
   "metadata": {},
   "outputs": [
    {
     "data": {
      "text/html": [
       "<div>\n",
       "<style scoped>\n",
       "    .dataframe tbody tr th:only-of-type {\n",
       "        vertical-align: middle;\n",
       "    }\n",
       "\n",
       "    .dataframe tbody tr th {\n",
       "        vertical-align: top;\n",
       "    }\n",
       "\n",
       "    .dataframe thead th {\n",
       "        text-align: right;\n",
       "    }\n",
       "</style>\n",
       "<table border=\"1\" class=\"dataframe\">\n",
       "  <thead>\n",
       "    <tr style=\"text-align: right;\">\n",
       "      <th></th>\n",
       "      <th>Area</th>\n",
       "      <th>Building</th>\n",
       "      <th>Floor / Room</th>\n",
       "      <th>Room type</th>\n",
       "      <th>Seats</th>\n",
       "      <th>Seating</th>\n",
       "      <th>Floor area</th>\n",
       "      <th>Floor shape</th>\n",
       "      <th>07_00_mo</th>\n",
       "      <th>07_00_tu</th>\n",
       "      <th>...</th>\n",
       "      <th>21_45_we</th>\n",
       "      <th>21_45_th</th>\n",
       "      <th>21_45_fr</th>\n",
       "      <th>21_45_sa</th>\n",
       "      <th>22_00_mo</th>\n",
       "      <th>22_00_tu</th>\n",
       "      <th>22_00_we</th>\n",
       "      <th>22_00_th</th>\n",
       "      <th>22_00_fr</th>\n",
       "      <th>22_00_sa</th>\n",
       "    </tr>\n",
       "  </thead>\n",
       "  <tbody>\n",
       "    <tr>\n",
       "      <th>0</th>\n",
       "      <td>Zürich Zentrum</td>\n",
       "      <td>CAB</td>\n",
       "      <td>G 11</td>\n",
       "      <td>Lecture hall</td>\n",
       "      <td>190.0</td>\n",
       "      <td>fixed</td>\n",
       "      <td>212.95</td>\n",
       "      <td>graded</td>\n",
       "      <td>NaN</td>\n",
       "      <td>NaN</td>\n",
       "      <td>...</td>\n",
       "      <td>NaN</td>\n",
       "      <td>NaN</td>\n",
       "      <td>NaN</td>\n",
       "      <td>NaN</td>\n",
       "      <td>NaN</td>\n",
       "      <td>NaN</td>\n",
       "      <td>NaN</td>\n",
       "      <td>NaN</td>\n",
       "      <td>NaN</td>\n",
       "      <td>NaN</td>\n",
       "    </tr>\n",
       "    <tr>\n",
       "      <th>1</th>\n",
       "      <td>Zürich Zentrum</td>\n",
       "      <td>CAB</td>\n",
       "      <td>G 51</td>\n",
       "      <td>Lecture hall</td>\n",
       "      <td>90.0</td>\n",
       "      <td>fixed</td>\n",
       "      <td>101.06</td>\n",
       "      <td>graded</td>\n",
       "      <td>NaN</td>\n",
       "      <td>NaN</td>\n",
       "      <td>...</td>\n",
       "      <td>NaN</td>\n",
       "      <td>NaN</td>\n",
       "      <td>NaN</td>\n",
       "      <td>NaN</td>\n",
       "      <td>NaN</td>\n",
       "      <td>NaN</td>\n",
       "      <td>NaN</td>\n",
       "      <td>NaN</td>\n",
       "      <td>NaN</td>\n",
       "      <td>NaN</td>\n",
       "    </tr>\n",
       "    <tr>\n",
       "      <th>2</th>\n",
       "      <td>Zürich Zentrum</td>\n",
       "      <td>CAB</td>\n",
       "      <td>G 52</td>\n",
       "      <td>Seminars / Courses</td>\n",
       "      <td>40.0</td>\n",
       "      <td>variable</td>\n",
       "      <td>67.27</td>\n",
       "      <td>flat</td>\n",
       "      <td>NaN</td>\n",
       "      <td>NaN</td>\n",
       "      <td>...</td>\n",
       "      <td>NaN</td>\n",
       "      <td>NaN</td>\n",
       "      <td>NaN</td>\n",
       "      <td>NaN</td>\n",
       "      <td>NaN</td>\n",
       "      <td>NaN</td>\n",
       "      <td>NaN</td>\n",
       "      <td>NaN</td>\n",
       "      <td>NaN</td>\n",
       "      <td>NaN</td>\n",
       "    </tr>\n",
       "    <tr>\n",
       "      <th>3</th>\n",
       "      <td>Zürich Zentrum</td>\n",
       "      <td>CAB</td>\n",
       "      <td>G 56</td>\n",
       "      <td>Seminars / Courses</td>\n",
       "      <td>40.0</td>\n",
       "      <td>variable</td>\n",
       "      <td>67.32</td>\n",
       "      <td>flat</td>\n",
       "      <td>NaN</td>\n",
       "      <td>NaN</td>\n",
       "      <td>...</td>\n",
       "      <td>NaN</td>\n",
       "      <td>NaN</td>\n",
       "      <td>NaN</td>\n",
       "      <td>NaN</td>\n",
       "      <td>NaN</td>\n",
       "      <td>NaN</td>\n",
       "      <td>NaN</td>\n",
       "      <td>NaN</td>\n",
       "      <td>NaN</td>\n",
       "      <td>NaN</td>\n",
       "    </tr>\n",
       "    <tr>\n",
       "      <th>4</th>\n",
       "      <td>Zürich Zentrum</td>\n",
       "      <td>CAB</td>\n",
       "      <td>G 57</td>\n",
       "      <td>Seminars / Courses</td>\n",
       "      <td>24.0</td>\n",
       "      <td>variable</td>\n",
       "      <td>44.14</td>\n",
       "      <td>flat</td>\n",
       "      <td>NaN</td>\n",
       "      <td>NaN</td>\n",
       "      <td>...</td>\n",
       "      <td>NaN</td>\n",
       "      <td>NaN</td>\n",
       "      <td>NaN</td>\n",
       "      <td>NaN</td>\n",
       "      <td>NaN</td>\n",
       "      <td>NaN</td>\n",
       "      <td>NaN</td>\n",
       "      <td>NaN</td>\n",
       "      <td>NaN</td>\n",
       "      <td>NaN</td>\n",
       "    </tr>\n",
       "  </tbody>\n",
       "</table>\n",
       "<p>5 rows × 374 columns</p>\n",
       "</div>"
      ],
      "text/plain": [
       "             Area Building Floor / Room           Room type  Seats   Seating  \\\n",
       "0  Zürich Zentrum      CAB         G 11        Lecture hall  190.0     fixed   \n",
       "1  Zürich Zentrum      CAB         G 51        Lecture hall   90.0     fixed   \n",
       "2  Zürich Zentrum      CAB         G 52  Seminars / Courses   40.0  variable   \n",
       "3  Zürich Zentrum      CAB         G 56  Seminars / Courses   40.0  variable   \n",
       "4  Zürich Zentrum      CAB         G 57  Seminars / Courses   24.0  variable   \n",
       "\n",
       "   Floor area Floor shape 07_00_mo  07_00_tu  ...  21_45_we  21_45_th  \\\n",
       "0      212.95      graded      NaN       NaN  ...       NaN       NaN   \n",
       "1      101.06      graded      NaN       NaN  ...       NaN       NaN   \n",
       "2       67.27        flat      NaN       NaN  ...       NaN       NaN   \n",
       "3       67.32        flat      NaN       NaN  ...       NaN       NaN   \n",
       "4       44.14        flat      NaN       NaN  ...       NaN       NaN   \n",
       "\n",
       "  21_45_fr 21_45_sa 22_00_mo  22_00_tu  22_00_we  22_00_th 22_00_fr 22_00_sa  \n",
       "0      NaN      NaN      NaN       NaN       NaN       NaN      NaN      NaN  \n",
       "1      NaN      NaN      NaN       NaN       NaN       NaN      NaN      NaN  \n",
       "2      NaN      NaN      NaN       NaN       NaN       NaN      NaN      NaN  \n",
       "3      NaN      NaN      NaN       NaN       NaN       NaN      NaN      NaN  \n",
       "4      NaN      NaN      NaN       NaN       NaN       NaN      NaN      NaN  \n",
       "\n",
       "[5 rows x 374 columns]"
      ]
     },
     "execution_count": 4,
     "metadata": {},
     "output_type": "execute_result"
    }
   ],
   "source": [
    "df.head()"
   ]
  },
  {
   "cell_type": "code",
   "execution_count": 34,
   "metadata": {},
   "outputs": [
    {
     "data": {
      "text/plain": [
       "Zürich Zentrum        216\n",
       "Zürich Hönggerberg    153\n",
       "Lindau Eschikon         3\n",
       "Schwerzenbach           3\n",
       "Zürich Universität      2\n",
       "Zürich Oerlikon         1\n",
       "Name: Area, dtype: int64"
      ]
     },
     "execution_count": 34,
     "metadata": {},
     "output_type": "execute_result"
    }
   ],
   "source": [
    "df['Area'].value_counts()"
   ]
  },
  {
   "cell_type": "code",
   "execution_count": 42,
   "metadata": {},
   "outputs": [
    {
     "data": {
      "text/plain": [
       "30.0     33\n",
       "40.0     28\n",
       "16.0     18\n",
       "24.0     17\n",
       "32.0     15\n",
       "         ..\n",
       "153.0     1\n",
       "502.0     1\n",
       "47.0      1\n",
       "96.0      1\n",
       "104.0     1\n",
       "Name: Seats, Length: 80, dtype: int64"
      ]
     },
     "execution_count": 42,
     "metadata": {},
     "output_type": "execute_result"
    }
   ],
   "source": [
    "df['Seats'].value_counts()"
   ]
  },
  {
   "cell_type": "code",
   "execution_count": 93,
   "metadata": {},
   "outputs": [
    {
     "data": {
      "text/plain": [
       "Seminars / Courses       144\n",
       "Lecture hall              75\n",
       "Meeting room              50\n",
       "Laboratory internship     47\n",
       "Computer                  30\n",
       "Draw                       8\n",
       "Technology laboratory      5\n",
       "Training room              5\n",
       "Exercises                  4\n",
       "Multipurpose room          4\n",
       "Microscopy                 2\n",
       "Canteen kitchen            1\n",
       "Photo lab / Darkroom       1\n",
       "Office                     1\n",
       "Isotope laboratory         1\n",
       "Name: Room type, dtype: int64"
      ]
     },
     "execution_count": 93,
     "metadata": {},
     "output_type": "execute_result"
    }
   ],
   "source": [
    "df['Room type'].value_counts()"
   ]
  },
  {
   "cell_type": "code",
   "execution_count": 137,
   "metadata": {},
   "outputs": [],
   "source": [
    "def get_room_type_score(df_series):\n",
    "    room_types = {'Seminars / Courses': 100, 'Lecture hall': 30, 'Meeting room': 100, 'Laboratory internship': 10, 'Computer': 70, 'Draw':50, 'Exercises': 20}\n",
    "\n",
    "    if df_series['Room type'] in room_types:\n",
    "        return room_types[df_series['Room type']]\n",
    "\n",
    "    else: return 0"
   ]
  },
  {
   "cell_type": "code",
   "execution_count": 78,
   "metadata": {},
   "outputs": [],
   "source": [
    "def get_timestamp(available_later=False, time:datetime = None) -> str:\n",
    "    if not time:\n",
    "        time = datetime.now()\n",
    "\n",
    "    rounded_time = time - timedelta(minutes=time.minute % 15)\n",
    "\n",
    "    hours = rounded_time.strftime(\"%H\")\n",
    "    minutes = rounded_time.strftime(\"%M\")\n",
    "    day = rounded_time.strftime(\"%A\")\n",
    "\n",
    "    days_translation = {'Monday':'mo', 'Tuesday':'tu', 'Wednesday':'we', 'Thursday':'th', 'Friday':'fr', 'Saturday':'sa', 'Sunday':'su'}\n",
    "\n",
    "    if available_later:\n",
    "        timestamp = str(int(hours)+1).zfill(2) + '_{}_{}'.format(minutes, days_translation[day])\n",
    "    else:\n",
    "        timestamp = str(hours).zfill(2) + '_{}_{}'.format(minutes, days_translation[day])\n",
    "\n",
    "    return timestamp\n"
   ]
  },
  {
   "cell_type": "code",
   "execution_count": 103,
   "metadata": {},
   "outputs": [],
   "source": [
    "def is_available(df_series, timestamp) -> bool:\n",
    "    \n",
    "    return pd.isna(df_series[timestamp])\n",
    "\n",
    "\n",
    "\n",
    "#is_available(df_series=df.iloc[0], timestamp = get_timestamp(available_later=False, time = datetime(2023, 3, 8, 9, 12, 0, 0)))"
   ]
  },
  {
   "cell_type": "code",
   "execution_count": 102,
   "metadata": {},
   "outputs": [],
   "source": [
    "def distance_to_room(df_series, location):\n",
    "    # Build 2d Map stored on Notability\n",
    "    areas_2d = {'Zürich Zentrum': (1.85, 0), 'Zürich Hönggerberg': (0, 2.25), 'Lindau Eschikon': (8.15, 5), 'Schwerzenbach': (7, 0.55), 'Zürich Universität': (2, 1.5), 'Zürich Oerlikon': (1.5, 3)}\n",
    "\n",
    "    room_vec = areas_2d[df_series['Area']]\n",
    "    current_vec = areas_2d[location]\n",
    "\n",
    "    distance = sqrt((room_vec[0] - current_vec[0])**2 + (room_vec[1] - current_vec[1])**2)\n",
    "\n",
    "    return distance\n",
    "\n",
    "\n",
    "# location_ = 'Lindau Eschikon'\n",
    "# print(max(0, 100 + distance_to_room(df_series=df.iloc[0], location=location_) ** 2 - 21 * distance_to_room(df_series=df.iloc[0], location=location_)))"
   ]
  },
  {
   "cell_type": "code",
   "execution_count": 101,
   "metadata": {},
   "outputs": [],
   "source": [
    "def has_been_used(df_series, timestamp) -> bool:\n",
    "    '''\n",
    "    Returns if room has been used this day, increasing its chances of being open\n",
    "    '''\n",
    "\n",
    "    # Only check for previous hours\n",
    "    df_series = df_series.iloc[8:df_series.index.get_loc(timestamp)+1]\n",
    "\n",
    "    # Clean dataset from remaining days of the week\n",
    "    df_series = df_series.loc[df_series.index.str.contains(timestamp[-2:])]\n",
    "\n",
    "    return pd.notna(df_series).any()\n",
    "\n",
    "#has_been_used(df_series=df.iloc[0], timestamp = get_timestamp(available_later=False, time = datetime(2023, 3, 7, 7, 50, 0, 0)))"
   ]
  },
  {
   "cell_type": "code",
   "execution_count": 127,
   "metadata": {},
   "outputs": [
    {
     "data": {
      "text/plain": [
       "('200', 74.4)"
      ]
     },
     "execution_count": 127,
     "metadata": {},
     "output_type": "execute_result"
    }
   ],
   "source": [
    "def will_be_used_in(df_series, timestamp):\n",
    "    '''\n",
    "    Returns time room will be free and corresponding score\n",
    "    '''\n",
    "\n",
    "\n",
    "    # Only check for upcoming hours\n",
    "    df_series = df_series.iloc[df_series.index.get_loc(timestamp):]\n",
    "\n",
    "    # Clean dataset from remaining days of the week\n",
    "    df_series = df_series.loc[df_series.index.str.contains(timestamp[-2:])]\n",
    "\n",
    "    for nb_quarters, val in enumerate(df_series):\n",
    "        if not pd.isna(val):\n",
    "            break\n",
    "\n",
    "    remaining_time_room_free = nb_quarters * 15\n",
    "    remaining_time_room_free = str(remaining_time_room_free // 60) + str(remaining_time_room_free % 60).zfill(2)\n",
    "\n",
    "    score =  min(100, 0.5 * nb_quarters * 15 + 0.001 * (nb_quarters * 15) ** 2)\n",
    "    \n",
    "    return remaining_time_room_free, score\n",
    "\n",
    "\n",
    "\n",
    "#will_be_used_in(df_series=df.iloc[0], timestamp = get_timestamp(available_later=False, time = datetime(2023, 3, 8, 7, 30, 0, 0)))\n"
   ]
  },
  {
   "cell_type": "code",
   "execution_count": 146,
   "metadata": {},
   "outputs": [],
   "source": [
    "def value_function(df_series, location, time=None, available_later=False):\n",
    "    '''\n",
    "    Policy from most important to least:\n",
    "    1. Availability - is room available?\n",
    "     -> accounts for 51% of score\n",
    "    2. Location - how close am I to the room?\n",
    "     -> accounts for 15% of score\n",
    "    3. Has been used that day? - Rooms in use more likely to be open\n",
    "     -> accounts for 11% of score\n",
    "    4. Room type - Seminar rooms are superior to Lecture hall for studying\n",
    "     -> accounts for 9% of score\n",
    "    5. How long available - how long may I stay?\n",
    "     -> accounts for 9% of score\n",
    "    6. Seating - Larger rooms attract more people\n",
    "     -> accounts for 5% of score\n",
    "    '''\n",
    "\n",
    "    timestamp = get_timestamp(available_later=available_later, time=time)\n",
    "\n",
    "    ### NOTE: REDO evaluation for upcoming hour and and tell user\n",
    "\n",
    "    # Check Availability\n",
    "    if is_available(df_series=df_series, timestamp=timestamp):\n",
    "        availability_score = 100\n",
    "    else: availability_score = 0\n",
    "\n",
    "    # 6 available locations\n",
    "    # min dist: 0.0, max dist: 8.601453365565613\n",
    "    distance = distance_to_room(df_series=df_series, location=location)\n",
    "    location_score = max(0, 100 + distance ** 2 - 21 * distance)\n",
    "\n",
    "    # Check if room has been used\n",
    "    has_been_used_score = 100*has_been_used(df_series=df_series, timestamp=timestamp)\n",
    "\n",
    "    # Check room type:\n",
    "    room_type_score = get_room_type_score(df_series=df_series)\n",
    "\n",
    "    # Check how long room will be available\n",
    "    # Index 1 to get the score\n",
    "    future_availability_score = will_be_used_in(df_series=df_series, timestamp=timestamp)[1]\n",
    "\n",
    "    # Seating\n",
    "    # Rooms above 90 are not likely to be recommended\n",
    "    if not pd.isna(df_series['Seats']):\n",
    "        seating_score = min(3, int(df_series['Seats']) % 30) * 33\n",
    "    else: seating_score = 0\n",
    "\n",
    "\n",
    "    scores = [availability_score, location_score, has_been_used_score, room_type_score, future_availability_score, seating_score]\n",
    "    scores_weights = [0.51, 0.15, 0.11, 0.09, 0.09, 0.05]\n",
    "\n",
    "\n",
    "    score = sum([score * weight for score, weight in zip(scores, scores_weights)])\n",
    "\n",
    "    return score\n",
    "\n",
    "# value_function(df_series=df.iloc[0], location = 'Lindau Eschikon', available_later=True, time = datetime(2023, 3, 8, 8, 30, 0, 0))\n"
   ]
  },
  {
   "cell_type": "code",
   "execution_count": 152,
   "metadata": {},
   "outputs": [],
   "source": [
    "df['scores'] = df.apply(lambda row: value_function(df_series= row, location='Zürich Zentrum', time = datetime(2023, 3, 8, 9, 30, 0, 0)), axis=1)"
   ]
  },
  {
   "cell_type": "code",
   "execution_count": 153,
   "metadata": {},
   "outputs": [
    {
     "name": "stdout",
     "output_type": "stream",
     "text": [
      "38\n"
     ]
    }
   ],
   "source": [
    "print(df['scores'].value_counts()[max(df['scores'])])"
   ]
  },
  {
   "cell_type": "code",
   "execution_count": 12,
   "metadata": {},
   "outputs": [
    {
     "name": "stdout",
     "output_type": "stream",
     "text": [
      "Current Time = 1900\n"
     ]
    }
   ],
   "source": [
    "now = datetime.now()\n",
    "current_time = now.strftime(\"%H:%M\")\n",
    "\n",
    "print(\"Current Time =\", current_time.replace(':', ''))"
   ]
  },
  {
   "cell_type": "code",
   "execution_count": null,
   "metadata": {},
   "outputs": [],
   "source": []
  }
 ],
 "metadata": {
  "kernelspec": {
   "display_name": "ETHRoomAllocations",
   "language": "python",
   "name": "python3"
  },
  "language_info": {
   "codemirror_mode": {
    "name": "ipython",
    "version": 3
   },
   "file_extension": ".py",
   "mimetype": "text/x-python",
   "name": "python",
   "nbconvert_exporter": "python",
   "pygments_lexer": "ipython3",
   "version": "3.9.12"
  },
  "orig_nbformat": 4
 },
 "nbformat": 4,
 "nbformat_minor": 2
}
