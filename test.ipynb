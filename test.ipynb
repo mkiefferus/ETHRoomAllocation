{
 "cells": [
  {
   "cell_type": "code",
   "execution_count": 15,
   "metadata": {},
   "outputs": [
    {
     "name": "stdout",
     "output_type": "stream",
     "text": [
      "{1, 2, 4, 5}\n",
      "[0, 1, 2, 3]\n"
     ]
    }
   ],
   "source": [
    "import numpy as np\n",
    "\n",
    "list1 = [1, 2, 3, 4, 5]\n",
    "\n",
    "list2 = [1, 2, 4, 5, 6, 7]\n",
    "list3 = ['a', 'b', 'c', 'd', 'e', 'f']\n",
    "\n",
    "set1 = set(list1)\n",
    "set2 = set(list2)\n",
    "\n",
    "intersection = set1.intersection(set2)\n",
    "indices = [i for i, x in enumerate(intersection) if x in list2]\n",
    "\n",
    "print(intersection)\n",
    "print(indices)\n",
    "\n",
    "\n"
   ]
  },
  {
   "cell_type": "code",
   "execution_count": 16,
   "metadata": {},
   "outputs": [
    {
     "name": "stdout",
     "output_type": "stream",
     "text": [
      "['07', '08', '09', '10', '11', '12', '13', '14', '15', '16', '17', '18', '19', '20', '21', '22']\n"
     ]
    }
   ],
   "source": [
    "weekdays = ['mo', 'tu', 'we', 'th', 'fr', 'sa']\n",
    "quarters = ['00', '15', '30', '45']\n",
    "hours = ['07', '08', '09']+[str(i) for i in range(10, 23)]\n",
    "print(hours)"
   ]
  },
  {
   "cell_type": "code",
   "execution_count": 17,
   "metadata": {},
   "outputs": [
    {
     "name": "stdout",
     "output_type": "stream",
     "text": [
      "366\n"
     ]
    }
   ],
   "source": [
    "labels = []\n",
    "\n",
    "for hour in hours:\n",
    "    for quarter in quarters:\n",
    "        for weekday in weekdays:\n",
    "            labels.append('{}{}_{}'.format(hour, quarter ,weekday))\n",
    "\n",
    "        if hour == '22':\n",
    "            break\n",
    "\n",
    "print(len(labels))"
   ]
  },
  {
   "cell_type": "code",
   "execution_count": null,
   "metadata": {},
   "outputs": [],
   "source": []
  }
 ],
 "metadata": {
  "kernelspec": {
   "display_name": "ETHRoomAllocations",
   "language": "python",
   "name": "python3"
  },
  "language_info": {
   "codemirror_mode": {
    "name": "ipython",
    "version": 3
   },
   "file_extension": ".py",
   "mimetype": "text/x-python",
   "name": "python",
   "nbconvert_exporter": "python",
   "pygments_lexer": "ipython3",
   "version": "3.9.12"
  },
  "orig_nbformat": 4,
  "vscode": {
   "interpreter": {
    "hash": "ff848bc363e27738afee577f74919245b629cbe5ef9c09ef278ee42dd245bb04"
   }
  }
 },
 "nbformat": 4,
 "nbformat_minor": 2
}
